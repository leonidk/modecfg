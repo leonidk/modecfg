{
 "cells": [
  {
   "cell_type": "code",
   "execution_count": null,
   "metadata": {},
   "outputs": [],
   "source": [
    "import re, os\n",
    "\n",
    "import numpy as np\n"
   ]
  },
  {
   "cell_type": "code",
   "execution_count": null,
   "metadata": {},
   "outputs": [],
   "source": [
    "import numpy as np\n",
    "import matplotlib.pyplot as plt\n",
    "import matplotlib.ticker as ticker\n",
    "import os\n",
    "import pickle\n",
    "\n",
    "import pandas as pd\n",
    "\n",
    "from sat_func import SATFunc, sat_eval"
   ]
  },
  {
   "cell_type": "code",
   "execution_count": null,
   "metadata": {},
   "outputs": [],
   "source": [
    "#plt.style.use('fivethirtyeight')\n",
    "plt.style.use('seaborn-white')\n",
    "plt.style.use('default')\n",
    "\n",
    "out_dir = 'sat_results/'\n",
    "results_set = {}\n",
    "for fl in sorted(os.listdir(out_dir)):\n",
    "    if 'pkl' not in fl:\n",
    "        continue\n",
    "    #if '_150_' in fl:\n",
    "    #    continue\n",
    "    with open(os.path.join(out_dir,fl),'rb') as fp:\n",
    "        import_data = pickle.load(fp)\n",
    "        if type(import_data) == list:\n",
    "            results = import_data\n",
    "        else:\n",
    "            results = import_data['results']\n",
    "    dim = int('_'.join(fl.split('_')[-2:-1]))\n",
    "    algo = '_'.join(fl.split('_')[0:2])\n",
    "    algo = algo.replace('single_cma','CMA')\n",
    "\n",
    "    algo = algo.replace('posthoc_cma','post hoc')\n",
    "    algo = algo.replace('staged_cma','staged')\n",
    "    algo = algo.replace('onlinewin_cma','online')\n",
    "\n",
    "    results_set[(algo,dim,fl)] = results"
   ]
  },
  {
   "cell_type": "code",
   "execution_count": null,
   "metadata": {},
   "outputs": [],
   "source": [
    "[_ for _ in results_set.keys() if '_1.0_1.0_' not in _[2]],[_ for _ in results_set.keys() if '_150_' in _[2]]"
   ]
  },
  {
   "cell_type": "code",
   "execution_count": null,
   "metadata": {},
   "outputs": [],
   "source": [
    "plt.figure(dpi=250,figsize=(6, 3))\n",
    "dfs = [] \n",
    "for name in sorted(results_set):\n",
    "\n",
    "    res = results_set[name]\n",
    "    df = pd.DataFrame(res,columns=['res','base','oracle'])\n",
    "    df['name'] = name[-1]\n",
    "    df['method'] = name[0]\n",
    "    df['iter'] = name[1]\n",
    "    df['res'] = np.array(df[['res','base']]).min(axis=1)\n",
    "    dfs.append(df)\n",
    "    #mean_v = df.groupby('dim').mean()\n",
    "    #min_v = df.groupby('dim').min()\n",
    "df = pd.concat(dfs)\n",
    "base_min_v = df.min(axis=0)\n",
    "\n",
    "mean_df = df.drop('name',axis=1).groupby(['method','iter']).mean().reset_index()\n",
    "min_df = df.drop('name',axis=1).groupby(['method','iter']).min().reset_index()\n",
    "\n",
    "std_df = df.drop('name',axis=1).groupby(['method','iter']).std().reset_index()\n",
    "cnt_df= df.drop('name',axis=1).groupby(['method','iter']).count().reset_index()\n",
    "\n",
    "import seaborn as sns\n",
    "from collections import defaultdict\n",
    "with sns.color_palette('plasma', n_colors=len(df.method.unique())):\n",
    "    span_v = base_min_v.base-base_min_v.oracle\n",
    "\n",
    "    convert_f = lambda x: (base_min_v.oracle-x)/span_v+1\n",
    "    for method in df.method.unique():\n",
    "        mean_p = convert_f(mean_df[mean_df.method == method].res)\n",
    "        diff = 1.96*std_df[std_df.method == method].res/np.sqrt(cnt_df[cnt_df.method == method].res)\n",
    "\n",
    "        ub = convert_f(mean_df[mean_df.method == method].res-diff)\n",
    "        lb = convert_f(mean_df[mean_df.method == method].res+diff)\n",
    "\n",
    "        label = name[0]#.upper()\n",
    "        ls_lookup = defaultdict(lambda: 'dashdot')\n",
    "        ls_lookup['cma'] = '-'\n",
    "        ls_lookup['post hoc'] = '--'\n",
    "        ls_lookup['online'] = 'dotted'\n",
    "\n",
    "        ls = ls_lookup[method.lower()]\n",
    "        ms_lookup = defaultdict(lambda: '^')\n",
    "        ms_lookup['CMA'] = '*'\n",
    "        ms_lookup['online'] = 'v'\n",
    "        ms_lookup['post hoc'] = 'x'\n",
    "        ms = ms_lookup[method.lower()]\n",
    "        label_p = method[0].upper() + method[1:]\n",
    "\n",
    "        plt.plot(mean_df[mean_df.method == method].iter,mean_p,label=label_p,ls=ls,marker=ms,lw=2)\n",
    "        plt.fill_between(mean_df[mean_df.method == method].iter,lb,ub,alpha=0.15)\n",
    "    #plt.plot(mean_df[mean_df.method == method].iter,mean_df[mean_df.method == method].base,label=\"Initialization\",c='k',ls='--')\n",
    "    #plt.plot(mean_df[mean_df.method == method].iter,mean_df[mean_df.method == method].oracle,label=\"Oracle\",c='r',ls='--')\n",
    "\n",
    "plt.xlabel('Function Evaluations')\n",
    "plt.ylabel('Quality of minima \\n (0 is initialization, 1 is oracle)')\n",
    "plt.title('Optimizing Stereo Matching Parameters')\n",
    "plt.legend()\n",
    "plt.tight_layout()\n",
    "plt.legend(ncol=4,loc='lower right',fancybox=True,shadow=False,framealpha=0.5)\n",
    "#plt.ylim(bottom=0)\n",
    "plt.xlim(right=250)\n",
    "plt.tight_layout()\n",
    "plt.savefig('lol_sat_newest.pdf')"
   ]
  },
  {
   "cell_type": "code",
   "execution_count": null,
   "metadata": {},
   "outputs": [],
   "source": [
    "df[(df.iter == 150) & (df.method =='online')]"
   ]
  },
  {
   "cell_type": "code",
   "execution_count": null,
   "metadata": {},
   "outputs": [],
   "source": [
    "mean_df# 1.074519"
   ]
  },
  {
   "cell_type": "code",
   "execution_count": null,
   "metadata": {},
   "outputs": [],
   "source": [
    "min_df"
   ]
  },
  {
   "cell_type": "code",
   "execution_count": null,
   "metadata": {},
   "outputs": [],
   "source": [
    "#plt.style.use('fivethirtyeight')\n",
    "plt.style.use('seaborn-white')\n",
    "plt.style.use('default')\n",
    "\n",
    "results_Algo = {}\n",
    "for fl in sorted(os.listdir(out_dir)):\n",
    "    if 'pkl' not in fl:\n",
    "        continue\n",
    "    #if '_150_' in fl:\n",
    "    #    continue\n",
    "    with open(os.path.join(out_dir,fl),'rb') as fp:\n",
    "        import_data = pickle.load(fp)\n",
    "        if type(import_data) == list:\n",
    "            results = import_data\n",
    "        else:\n",
    "            results = import_data['results']\n",
    "    dim = int('_'.join(fl.split('_')[-2:-1]))\n",
    "    algo = '_'.join(fl.split('_')[0:2])\n",
    "    algo = algo.replace('single_cma','CMA')\n",
    "\n",
    "    algo = algo.replace('posthoc_cma','post hoc')\n",
    "    algo = algo.replace('staged_cma','staged')\n",
    "    algo = algo.replace('onlinewin_cma','online')\n",
    "    res_arr = np.array(results)\n",
    "    min_idx = np.argsort(res_arr[:,0])[0]\n",
    "    results_Algo[(algo,dim,fl)] = (res_arr[min_idx,0],tuple(import_data['clusters'][min_idx]))"
   ]
  },
  {
   "cell_type": "code",
   "execution_count": null,
   "metadata": {},
   "outputs": [],
   "source": [
    "sorted([(v[0],v[1],k[0],k[1]) for k,v in results_Algo.items()])"
   ]
  }
 ],
 "metadata": {
  "language_info": {
   "name": "python"
  }
 },
 "nbformat": 4,
 "nbformat_minor": 5
}
