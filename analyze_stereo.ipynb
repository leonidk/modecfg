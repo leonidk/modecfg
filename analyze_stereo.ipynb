{
 "cells": [
  {
   "cell_type": "code",
   "execution_count": null,
   "metadata": {},
   "outputs": [],
   "source": [
    "import re, os\n",
    "\n",
    "import numpy as np\n",
    "import cv2\n",
    "from PIL import Image"
   ]
  },
  {
   "cell_type": "code",
   "execution_count": null,
   "metadata": {},
   "outputs": [],
   "source": [
    "import numpy as np\n",
    "import matplotlib.pyplot as plt\n",
    "import matplotlib.ticker as ticker\n",
    "import os\n",
    "import pickle\n",
    "\n",
    "import pandas as pd\n",
    "\n",
    "from stereo_func import StereoFunc, stereo_match"
   ]
  },
  {
   "cell_type": "code",
   "execution_count": null,
   "metadata": {},
   "outputs": [],
   "source": [
    "#plt.style.use('fivethirtyeight')\n",
    "plt.style.use('seaborn-white')\n",
    "plt.style.use('default')\n",
    "\n",
    "out_dir = 'bigStereoCluster3/'\n",
    "results_set = {}\n",
    "for fl in sorted(os.listdir(out_dir)):\n",
    "    if 'pkl' not in fl:\n",
    "        continue\n",
    "    #if '_150_' in fl:\n",
    "    #    continue\n",
    "    with open(os.path.join(out_dir,fl),'rb') as fp:\n",
    "        import_data = pickle.load(fp)\n",
    "        if type(import_data) == list:\n",
    "            results = import_data\n",
    "        else:\n",
    "            results = import_data['results']\n",
    "    dim = int('_'.join(fl.split('_')[-2:-1]))\n",
    "    algo = '_'.join(fl.split('_')[0:2])\n",
    "    algo = algo.replace('single_cma','CMA')\n",
    "\n",
    "    algo = algo.replace('posthoc_cma','post hoc')\n",
    "    algo = algo.replace('staged_cma','staged')\n",
    "    algo = algo.replace('onlinewin_cma','online')\n",
    "\n",
    "    results_set[(algo,dim,fl)] = results"
   ]
  },
  {
   "cell_type": "code",
   "execution_count": null,
   "metadata": {},
   "outputs": [],
   "source": [
    "[_ for _ in results_set.keys() if '_1.0_1.0_' not in _[2]],[_ for _ in results_set.keys() if '_150_' in _[2]]"
   ]
  },
  {
   "cell_type": "code",
   "execution_count": null,
   "metadata": {},
   "outputs": [],
   "source": [
    "plt.figure(dpi=250,figsize=(6, 3))\n",
    "dfs = [] \n",
    "for name in sorted(results_set):\n",
    "\n",
    "    res = results_set[name]\n",
    "    df = pd.DataFrame(res,columns=['res','base','oracle'])\n",
    "    df['name'] = name[-1]\n",
    "    df['method'] = name[0]\n",
    "    df['iter'] = name[1]\n",
    "    df['res'] = np.array(df[['res','base']]).min(axis=1)\n",
    "    dfs.append(df)\n",
    "    #mean_v = df.groupby('dim').mean()\n",
    "    #min_v = df.groupby('dim').min()\n",
    "df = pd.concat(dfs)\n",
    "base_min_v = df.min(axis=0)\n",
    "\n",
    "mean_df = df.groupby(['method','iter']).mean().reset_index()\n",
    "min_df = df.groupby(['method','iter']).min().reset_index()\n",
    "\n",
    "std_df = df.groupby(['method','iter']).std().reset_index()\n",
    "cnt_df= df.groupby(['method','iter']).count().reset_index()\n",
    "\n",
    "import seaborn as sns\n",
    "from collections import defaultdict\n",
    "with sns.color_palette('plasma', n_colors=len(df.method.unique())):\n",
    "    span_v = base_min_v.base-base_min_v.oracle\n",
    "\n",
    "    convert_f = lambda x: (base_min_v.oracle-x)/span_v+1\n",
    "    for method in df.method.unique():\n",
    "        mean_p = convert_f(mean_df[mean_df.method == method].res)\n",
    "        diff = 1.96*std_df[std_df.method == method].res/np.sqrt(cnt_df[cnt_df.method == method].res)\n",
    "\n",
    "        ub = convert_f(mean_df[mean_df.method == method].res-diff)\n",
    "        lb = convert_f(mean_df[mean_df.method == method].res+diff)\n",
    "\n",
    "        label = name[0]#.upper()\n",
    "        ls_lookup = defaultdict(lambda: 'dashdot')\n",
    "        ls_lookup['cma'] = '-'\n",
    "        ls_lookup['post hoc'] = '--'\n",
    "        ls_lookup['online'] = 'dotted'\n",
    "\n",
    "        ls = ls_lookup[method.lower()]\n",
    "        ms_lookup = defaultdict(lambda: '^')\n",
    "        ms_lookup['CMA'] = '*'\n",
    "        ms_lookup['online'] = 'v'\n",
    "        ms_lookup['post hoc'] = 'x'\n",
    "        ms = ms_lookup[method.lower()]\n",
    "        label_p = method[0].upper() + method[1:]\n",
    "\n",
    "        plt.plot(mean_df[mean_df.method == method].iter,mean_p,label=label_p,ls=ls,marker=ms,lw=2)\n",
    "        plt.fill_between(mean_df[mean_df.method == method].iter,lb,ub,alpha=0.15)\n",
    "    #plt.plot(mean_df[mean_df.method == method].iter,mean_df[mean_df.method == method].base,label=\"Initialization\",c='k',ls='--')\n",
    "    #plt.plot(mean_df[mean_df.method == method].iter,mean_df[mean_df.method == method].oracle,label=\"Oracle\",c='r',ls='--')\n",
    "\n",
    "plt.xlabel('Function Evaluations')\n",
    "plt.ylabel('Quality of minima \\n (0 is initialization, 1 is oracle)')\n",
    "plt.title('Optimizing Stereo Matching Parameters')\n",
    "plt.legend()\n",
    "plt.tight_layout()\n",
    "plt.legend(ncol=4,loc='lower right',fancybox=True,shadow=False,framealpha=0.5)\n",
    "#plt.ylim(bottom=0)\n",
    "plt.xlim(right=250)\n",
    "plt.tight_layout()\n",
    "plt.savefig('lol_stereo_newest.pdf')"
   ]
  },
  {
   "cell_type": "code",
   "execution_count": null,
   "metadata": {},
   "outputs": [],
   "source": [
    "df[(df.iter == 150) & (df.method =='online')]"
   ]
  },
  {
   "cell_type": "code",
   "execution_count": null,
   "metadata": {},
   "outputs": [],
   "source": [
    "base_min_v"
   ]
  },
  {
   "cell_type": "code",
   "execution_count": null,
   "metadata": {},
   "outputs": [],
   "source": [
    "mean_df"
   ]
  },
  {
   "cell_type": "code",
   "execution_count": null,
   "metadata": {},
   "outputs": [],
   "source": [
    "mean_df# 1.074519"
   ]
  },
  {
   "cell_type": "code",
   "execution_count": null,
   "metadata": {},
   "outputs": [],
   "source": [
    "min_df"
   ]
  },
  {
   "cell_type": "code",
   "execution_count": null,
   "metadata": {},
   "outputs": [],
   "source": [
    "df.groupby(['method','iter']).mean()"
   ]
  },
  {
   "cell_type": "code",
   "execution_count": null,
   "metadata": {},
   "outputs": [],
   "source": [
    "#plt.style.use('fivethirtyeight')\n",
    "plt.style.use('seaborn-white')\n",
    "plt.style.use('default')\n",
    "\n",
    "results_Algo = {}\n",
    "for fl in sorted(os.listdir(out_dir)):\n",
    "    if 'pkl' not in fl:\n",
    "        continue\n",
    "    #if '_150_' in fl:\n",
    "    #    continue\n",
    "    with open(os.path.join(out_dir,fl),'rb') as fp:\n",
    "        import_data = pickle.load(fp)\n",
    "        if type(import_data) == list:\n",
    "            results = import_data\n",
    "        else:\n",
    "            results = import_data['results']\n",
    "    dim = int('_'.join(fl.split('_')[-2:-1]))\n",
    "    algo = '_'.join(fl.split('_')[0:2])\n",
    "    algo = algo.replace('single_cma','CMA')\n",
    "\n",
    "    algo = algo.replace('posthoc_cma','post hoc')\n",
    "    algo = algo.replace('staged_cma','staged')\n",
    "    algo = algo.replace('onlinewin_cma','online')\n",
    "\n",
    "    results_Algo[(algo,dim,fl)] = import_data['clusters']"
   ]
  },
  {
   "cell_type": "code",
   "execution_count": null,
   "metadata": {},
   "outputs": [],
   "source": [
    "import torch\n",
    "from skimage.transform import resize\n",
    "model = torch.hub.load('pytorch/vision', 'squeezenet1_1', pretrained=True)\n",
    "model.classifier = torch.nn.AdaptiveAvgPool2d((1,1))\n",
    "_ = model.eval()\n"
   ]
  },
  {
   "cell_type": "code",
   "execution_count": null,
   "metadata": {},
   "outputs": [],
   "source": [
    "from sklearn.neighbors import KNeighborsRegressor\n",
    "def fix_img(array):\n",
    "    vec = resize(array,(224,224)).astype(np.float32)\n",
    "    mean = np.array([0.485, 0.456, 0.406])\n",
    "    std = np.array([0.229, 0.224, 0.225])\n",
    "    vec = (vec-mean)/std\n",
    "    return vec\n",
    "cfunc = StereoFunc()\n",
    "conv_imgs = [fix_img(d_img[0]) for d_img in cfunc.dataset]\n",
    "input_data = torch.FloatTensor(np.transpose(conv_imgs,[0,3,1,2]))\n",
    "pyt_scores = model(input_data)\n",
    "cls_vec = pyt_scores.detach().cpu().numpy()"
   ]
  },
  {
   "cell_type": "code",
   "execution_count": null,
   "metadata": {},
   "outputs": [],
   "source": [
    "method_res = []\n",
    "\n",
    "cfgs_est = []\n",
    "TARGET_DIM = 250\n",
    "\n",
    "for name, method_sol in results_Algo.items():\n",
    "    if name[1] != TARGET_DIM:\n",
    "        continue\n",
    "    for msol in method_sol:\n",
    "        clf_nn = KNeighborsRegressor(n_neighbors=1)\n",
    "        clf_nn.fit(cls_vec[np.array(cfunc.balanced_split)],msol[0])\n",
    "        alt_data = np.array([_ for _ in range(len(cfunc.dataset)) if _ not in cfunc.balanced_split])\n",
    "        cfg_to_use = np.round(clf_nn.predict(cls_vec[alt_data])).astype(int)\n",
    "        xs = np.array(msol[1])[cfg_to_use]\n",
    "        res = [stereo_match(x,cfunc.dataset[i]) for x,i in zip(xs,alt_data)]\n",
    "        method_res.append((name[0],name[1],np.mean(res)))\n",
    "        cfgs_est.append((msol,cfg_to_use))"
   ]
  },
  {
   "cell_type": "code",
   "execution_count": null,
   "metadata": {},
   "outputs": [],
   "source": [
    "res_f = pd.DataFrame(method_res,columns=['name','dim','res'])\n",
    "res_f = res_f[res_f.dim == TARGET_DIM]\n",
    "std_v = res_f.groupby(['name','dim']).std()['res']/np.sqrt(res_f.groupby(['name','dim']).count()['res'])\n",
    "res_v = res_f.groupby(['name','dim']).mean().sort_values('res')\n",
    "res_v['95_LB'] = res_v['res']-1.96*std_v#.reset_index()\n",
    "res_v['95_UB'] = res_v['res']+1.96*std_v#.reset_index()\n",
    "res_v = res_v.reset_index()\n",
    "res_v "
   ]
  },
  {
   "cell_type": "code",
   "execution_count": null,
   "metadata": {},
   "outputs": [],
   "source": [
    "res_f.groupby(['name','dim']).count()['res']"
   ]
  },
  {
   "cell_type": "code",
   "execution_count": null,
   "metadata": {},
   "outputs": [],
   "source": [
    "import seaborn as sns\n",
    "plt.figure(figsize=(6,3))\n",
    "with sns.color_palette('plasma', n_colors=len(res_v)):\n",
    "    sns.boxplot(x='name',y='res',data=res_f,order=res_v.sort_values('name',0,False).name[::-1])#,flierprops={'marker':''},medianprops={'color':'k'})\n",
    "plt.xlabel('')\n",
    "plt.ylabel(\"Disparity Error\")\n",
    "plt.title(\"Stereo test set with {} function evaluations\".format(TARGET_DIM))\n",
    "#plt.ylim(top=1.093)\n",
    "plt.tight_layout()\n",
    "plt.savefig('stereo_te2st_{}_1.pdf'.format(TARGET_DIM),dpi=140,facecolor=plt.gcf().get_facecolor(), edgecolor='none',bbox_inches='tight')"
   ]
  },
  {
   "cell_type": "code",
   "execution_count": null,
   "metadata": {},
   "outputs": [],
   "source": [
    "results_Algo"
   ]
  },
  {
   "cell_type": "code",
   "execution_count": null,
   "metadata": {},
   "outputs": [],
   "source": [
    "min_idx = np.argsort(np.array(res_f['res']))[0]\n",
    "res_f.iloc[min_idx]"
   ]
  },
  {
   "cell_type": "code",
   "execution_count": null,
   "metadata": {},
   "outputs": [],
   "source": [
    "np.array([[np.exp(_[1]) for _ in v] for k,v in results_Algo.items() if k[0] == 'staged' and k[1] == 250]).reshape((-1,2,8))"
   ]
  },
  {
   "cell_type": "code",
   "execution_count": null,
   "metadata": {},
   "outputs": [],
   "source": [
    "\n",
    "\n",
    "from functools import reduce\n",
    "\n",
    "def factors(n):    \n",
    "    return sorted(set(reduce(list.__add__, \n",
    "                ([i, n//i] for i in range(1, int(n**0.5) + 1) if n % i == 0))))\n",
    "\n",
    "for i in range(2):\n",
    "    num = sum(    cfgs_est[min_idx][0][0] == i)\n",
    "    if (num%2) == 1:\n",
    "        num += 1\n",
    "\n",
    "    fc = factors(num)\n",
    "    if len(fc) == 1:\n",
    "        fc = [fc[0],fc[0]]\n",
    "    plt.figure()\n",
    "    plt.suptitle('Cluster {}'.format(i+1))\n",
    "\n",
    "    clust_idx = np.array(cfunc.balanced_split)[cfgs_est[min_idx][0][0] == i]\n",
    "    for j,im_i in enumerate(clust_idx):\n",
    "        plt.subplot(fc[-1],fc[-2],j+1)\n",
    "        plt.imshow(cfunc.dataset[im_i][0][:,cfunc.dataset[im_i][2]:])\n",
    "        plt.axis('off')\n",
    "    plt.tight_layout()\n",
    "    plt.subplots_adjust(wspace=-0.75, hspace=0)\n",
    "    plt.savefig('stereo_c3_{}.pdf'.format(i),dpi=140,facecolor=plt.gcf().get_facecolor(), edgecolor='none',bbox_inches='tight')"
   ]
  },
  {
   "cell_type": "code",
   "execution_count": null,
   "metadata": {},
   "outputs": [],
   "source": [
    "\n",
    "num = len(alt_data)\n",
    "if (num%2) == 1:\n",
    "    num += 1\n",
    "\n",
    "fc = factors(num)\n",
    "if len(fc) == 1:\n",
    "    fc = [fc[0],fc[0]]\n",
    "\n",
    "clust_idx = np.array(alt_data)\n",
    "for j,im_i in enumerate(clust_idx):\n",
    "    plt.subplot(8,3,j+1)\n",
    "    plt.imshow(cfunc.dataset[im_i][0][:,cfunc.dataset[im_i][2]:])\n",
    "    plt.xticks([],[])\n",
    "    plt.yticks([],[])\n",
    "    if cfgs_est[min_idx][1][j] == 0:\n",
    "        plt.gca().patch.set_edgecolor('red')\n",
    "        plt.gca().patch.set_linewidth('5')\n",
    "\n",
    "plt.suptitle('Test Images')\n",
    "\n",
    "plt.tight_layout()\n",
    "plt.subplots_adjust(wspace=-0.75, hspace=0)\n",
    "plt.savefig('stereo_c_t3_{}.pdf'.format(i),dpi=140,facecolor=plt.gcf().get_facecolor(), edgecolor='none',bbox_inches='tight')"
   ]
  },
  {
   "cell_type": "code",
   "execution_count": null,
   "metadata": {},
   "outputs": [],
   "source": [
    "import cv2\n",
    "for d_l in range(len(cfunc.dataset)):\n",
    "   # plt.figure()\n",
    "    if d_l in cfunc.balanced_split:\n",
    "        continue\n",
    "    print(d_l)\n",
    "    plt.figure()\n",
    "    for p_i, params in enumerate(cfgs_est[min_idx][0][1]):\n",
    "\n",
    "        imL,imR,max_disp,mask_invalid,gt = cfunc.dataset[d_l]\n",
    "        if p_i == 0:\n",
    "            plt.subplot(1,3,1)\n",
    "            plt.imshow(imL[:,max_disp:])\n",
    "            plt.axis('off')\n",
    "            plt.title(\"Left Image\")\n",
    "        p = {\n",
    "            'blockSize': 5,\n",
    "            'P1':8 * 3 * 3 ** 2,\n",
    "            'P2':32 * 3 * 3 ** 2,\n",
    "            'disp12MaxDiff': 40,\n",
    "            'uniquenessRatio': 15,\n",
    "            'speckleWindowSize': 0,\n",
    "            'speckleRange': 2,\n",
    "            'preFilterCap': 63,\n",
    "        }\n",
    "\n",
    "        p['minDisparity'] = 0\n",
    "        p['numDisparities'] = max_disp\n",
    "        p['mode'] = cv2.STEREO_SGBM_MODE_SGBM\n",
    "        cols = ['P1', 'P2', 'blockSize', 'disp12MaxDiff', 'preFilterCap', 'speckleRange', 'speckleWindowSize', 'uniquenessRatio']\n",
    "\n",
    "        for c,v in zip(cols,params):\n",
    "            p[c] = int(round(np.exp(v)))\n",
    "\n",
    "        left_matcher = cv2.StereoSGBM_create(**p)\n",
    "\n",
    "        displ = left_matcher.compute(imL, imR)[:,max_disp:]\n",
    "        result = (displ).astype(np.float32)/16\n",
    "        max_error = 3\n",
    "\n",
    "        err_vec = np.nan_to_num(abs(result-gt))\n",
    "        err_vec[err_vec > max_error] = max_error\n",
    "        err_vec[displ == -1] = max_error\n",
    "        \n",
    "        err = np.mean(err_vec[~mask_invalid])\n",
    "        plt.subplot(1,3,p_i+2)\n",
    "\n",
    "        plt.title('Cluster {} config \\n \"Vintage\" ({:.3f})'.format(p_i+1,err,2))\n",
    "        vis_res = result.copy()\n",
    "        vis_res[(mask_invalid) | (np.isfinite(gt)==False)] = 0\n",
    "        v_r = result[(result!=0) & (np.isfinite(result))]\n",
    "        p5 = np.percentile(v_r,1)\n",
    "        p95 = np.percentile(v_r,99)\n",
    "        plt.imshow(vis_res,interpolation='nearest')\n",
    "        plt.axis('off')\n",
    "        \n",
    "    plt.tight_layout()\n",
    "    plt.savefig('stereo_out3.pdf',dpi=140,facecolor=plt.gcf().get_facecolor(), edgecolor='none',bbox_inches='tight')\n",
    "    break"
   ]
  },
  {
   "cell_type": "code",
   "execution_count": null,
   "metadata": {},
   "outputs": [],
   "source": []
  },
  {
   "cell_type": "code",
   "execution_count": null,
   "metadata": {},
   "outputs": [],
   "source": [
    "p5,p95"
   ]
  },
  {
   "cell_type": "code",
   "execution_count": null,
   "metadata": {},
   "outputs": [],
   "source": [
    "plt.imshow(cfunc.dataset[cfunc.balanced_split[-1]][0])"
   ]
  },
  {
   "cell_type": "code",
   "execution_count": null,
   "metadata": {},
   "outputs": [],
   "source": [
    "plt.imshow(cfunc.dataset[cfunc.balanced_split[-1]][1])"
   ]
  },
  {
   "cell_type": "code",
   "execution_count": null,
   "metadata": {},
   "outputs": [],
   "source": [
    "params"
   ]
  },
  {
   "cell_type": "code",
   "execution_count": null,
   "metadata": {},
   "outputs": [],
   "source": [
    "cfunc.dataset[0]"
   ]
  },
  {
   "cell_type": "code",
   "execution_count": null,
   "metadata": {},
   "outputs": [],
   "source": []
  },
  {
   "cell_type": "code",
   "execution_count": null,
   "metadata": {},
   "outputs": [],
   "source": []
  }
 ],
 "metadata": {
  "language_info": {
   "name": "python"
  }
 },
 "nbformat": 4,
 "nbformat_minor": 5
}
